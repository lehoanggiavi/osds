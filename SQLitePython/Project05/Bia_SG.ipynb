{
 "cells": [
  {
   "cell_type": "code",
   "execution_count": 72,
   "metadata": {},
   "outputs": [],
   "source": [
    "from selenium import webdriver\n",
    "from selenium.webdriver.common.by import By\n",
    "import time\n"
   ]
  },
  {
   "cell_type": "code",
   "execution_count": 73,
   "metadata": {},
   "outputs": [],
   "source": [
    "# Khoi tao trang web \n",
    "driver = webdriver.Chrome()\n",
    "\n",
    "# Mo trang web can lay du lieu\n",
    "url = \"https://simplize.vn/co-phieu/SAB/lich-su-gia\"\n",
    "driver.get(url)\n",
    "\n",
    "time.sleep(7)"
   ]
  },
  {
   "cell_type": "code",
   "execution_count": 61,
   "metadata": {},
   "outputs": [],
   "source": []
  },
  {
   "cell_type": "code",
   "execution_count": 74,
   "metadata": {},
   "outputs": [
    {
     "ename": "AttributeError",
     "evalue": "'list' object has no attribute 'text'",
     "output_type": "error",
     "traceback": [
      "\u001b[1;31m---------------------------------------------------------------------------\u001b[0m",
      "\u001b[1;31mAttributeError\u001b[0m                            Traceback (most recent call last)",
      "Cell \u001b[1;32mIn[74], line 23\u001b[0m\n\u001b[0;32m     21\u001b[0m days \u001b[38;5;241m=\u001b[39m [tag\u001b[38;5;241m.\u001b[39mfind_elements(By\u001b[38;5;241m.\u001b[39mXPATH, \u001b[38;5;124m\"\u001b[39m\u001b[38;5;124m//td[@class=\u001b[39m\u001b[38;5;124m'\u001b[39m\u001b[38;5;124msimplize-table-cell simplize-table-cell-fix-left simplize-table-cell-fix-left-last\u001b[39m\u001b[38;5;124m'\u001b[39m\u001b[38;5;124m]//h6[@class=\u001b[39m\u001b[38;5;124m'\u001b[39m\u001b[38;5;124mcss-cvilom\u001b[39m\u001b[38;5;124m'\u001b[39m\u001b[38;5;124m]\u001b[39m\u001b[38;5;124m\"\u001b[39m) \u001b[38;5;28;01mfor\u001b[39;00m tag \u001b[38;5;129;01min\u001b[39;00m tr_tags]\n\u001b[0;32m     22\u001b[0m \u001b[38;5;28;01mfor\u001b[39;00m index, value \u001b[38;5;129;01min\u001b[39;00m \u001b[38;5;28menumerate\u001b[39m(days):\n\u001b[1;32m---> 23\u001b[0m      \u001b[38;5;28mprint\u001b[39m(\u001b[38;5;124mf\u001b[39m\u001b[38;5;124m\"\u001b[39m\u001b[38;5;124mIndex: \u001b[39m\u001b[38;5;132;01m{\u001b[39;00mindex\u001b[38;5;132;01m}\u001b[39;00m\u001b[38;5;124m, Value: \u001b[39m\u001b[38;5;132;01m{\u001b[39;00m\u001b[43mvalue\u001b[49m\u001b[38;5;241;43m.\u001b[39;49m\u001b[43mtext\u001b[49m\u001b[38;5;132;01m}\u001b[39;00m\u001b[38;5;124m\"\u001b[39m)\n\u001b[0;32m     24\u001b[0m \u001b[38;5;66;03m# try:\u001b[39;00m\n\u001b[0;32m     25\u001b[0m \u001b[38;5;66;03m#     days = [tag.find_element(By.XPATH, \"//td[@class='simplize-table-cell simplize-table-cell-fix-left simplize-table-cell-fix-left-last']//h6[@class='css-cvilom']\") for tag in tr_tags]\u001b[39;00m\n\u001b[0;32m     26\u001b[0m \u001b[38;5;66;03m# except Exception as e:\u001b[39;00m\n\u001b[1;32m   (...)\u001b[0m\n\u001b[0;32m     37\u001b[0m \u001b[38;5;66;03m#     day = day_elements.text\u001b[39;00m\n\u001b[0;32m     38\u001b[0m \u001b[38;5;66;03m#     print(day)\u001b[39;00m\n",
      "\u001b[1;31mAttributeError\u001b[0m: 'list' object has no attribute 'text'"
     ]
    }
   ],
   "source": [
    "# Tim tat ca the table \n",
    "table_tags = driver.find_elements(By.TAG_NAME, \"table\")\n",
    "# print(table_tags)\n",
    "\n",
    "# Tim the table \n",
    "# for index, value in enumerate(table_tags):\n",
    "#     print(f\"Index: {index}, Value: {value.text}\")\n",
    "\n",
    "\n",
    "# td_tags = table_tags[1].find_elements(By.TAG_NAME, \"td\")\n",
    "# print(td_tags)\n",
    "\n",
    "\n",
    "# Tim tat ca the tr\n",
    "tr_tags = table_tags[1].find_elements(By.TAG_NAME, \"tr\")\n",
    "# print(type(tr_tags))\n",
    "# for index, value in enumerate(tr_tags):\n",
    "#      print(f\"Index: {index}, Value: {value.text}\")\n",
    "\n",
    "\n",
    "days = [tag.find_element(By.XPATH, \"//td[@class='simplize-table-cell simplize-table-cell-fix-left simplize-table-cell-fix-left-last']//h6[@class='css-cvilom']\") for tag in tr_tags]\n",
    "# for index, value in enumerate(days):\n",
    "#      print(f\"Index: {index}, Value: {value.text}\")\n",
    "# try:\n",
    "#     days = [tag.find_element(By.XPATH, \"//td[@class='simplize-table-cell simplize-table-cell-fix-left simplize-table-cell-fix-left-last']//h6[@class='css-cvilom']\") for tag in tr_tags]\n",
    "# except Exception as e:\n",
    "#     print(e)\n",
    "\n",
    "\n",
    "# for day in days:\n",
    "#     print(day.text)\n",
    "\n",
    "# Tao ra 1 danh sach lien ket\n",
    "# for tag in tr_tags:\n",
    "#     # Lay ngay\n",
    "#     day_elements = tag.find_element(By.XPATH, \"//td[@class='simplize-table-cell simplize-table-cell-fix-left simplize-table-cell-fix-left-last']//h6[@class='css-cvilom']\")\n",
    "#     day = day_elements.text\n",
    "#     print(day)\n",
    "\n",
    "\n",
    "\n"
   ]
  },
  {
   "cell_type": "code",
   "execution_count": null,
   "metadata": {},
   "outputs": [],
   "source": [
    "\n"
   ]
  },
  {
   "cell_type": "markdown",
   "metadata": {},
   "source": []
  },
  {
   "cell_type": "code",
   "execution_count": null,
   "metadata": {},
   "outputs": [],
   "source": []
  },
  {
   "cell_type": "code",
   "execution_count": null,
   "metadata": {},
   "outputs": [],
   "source": []
  }
 ],
 "metadata": {
  "kernelspec": {
   "display_name": "Python 3",
   "language": "python",
   "name": "python3"
  },
  "language_info": {
   "codemirror_mode": {
    "name": "ipython",
    "version": 3
   },
   "file_extension": ".py",
   "mimetype": "text/x-python",
   "name": "python",
   "nbconvert_exporter": "python",
   "pygments_lexer": "ipython3",
   "version": "3.10.11"
  }
 },
 "nbformat": 4,
 "nbformat_minor": 2
}
