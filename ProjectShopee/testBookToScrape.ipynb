{
 "cells": [
  {
   "cell_type": "code",
   "execution_count": 43,
   "metadata": {},
   "outputs": [],
   "source": [
    "from selenium import webdriver\n",
    "from selenium.webdriver.common.by import By\n",
    "from selenium.webdriver.common.keys import Keys\n",
    "from selenium.webdriver.chrome.service import Service\n",
    "import pandas as pd\n",
    "import time\n"
   ]
  },
  {
   "cell_type": "code",
   "execution_count": 49,
   "metadata": {},
   "outputs": [],
   "source": [
    "# Khoi tao duong dan file chromedriver\n",
    "chrome_path = \"E:/OSDS/osds/chromedriver.exe\"\n",
    "\n",
    "# Khoi tao dieu khien file driver\n",
    "ser = Service(chrome_path)\n",
    "\n",
    "# Khoi tao trinh duyet\n",
    "driver = webdriver.Chrome(service=ser)\n",
    "\n",
    "# Khoi tao web\n",
    "url = \"http://books.toscrape.com\"\n",
    "\n",
    "driver.get(url)\n",
    "time.sleep(3)\n"
   ]
  },
  {
   "cell_type": "code",
   "execution_count": 45,
   "metadata": {},
   "outputs": [],
   "source": [
    "body_tags = driver.find_element(By.TAG_NAME, \"body\")"
   ]
  },
  {
   "cell_type": "code",
   "execution_count": 46,
   "metadata": {},
   "outputs": [],
   "source": [
    "# Cuon trang xuong \n",
    "for _ in range(50):\n",
    "    body_tags.send_keys(Keys.ARROW_DOWN)\n",
    "    time.sleep(0.3)"
   ]
  },
  {
   "cell_type": "code",
   "execution_count": 47,
   "metadata": {},
   "outputs": [],
   "source": [
    "# Tim tat ca cac the loai sach co tren trang\n",
    "# Tim tat ca the ul\n",
    "ul_tags = driver.find_elements(By.TAG_NAME, \"ul\")\n",
    "# for index, value in enumerate(ul_tags):\n",
    "#     print(f\"Index: {index}, Value: {value.text}\")\n",
    "    \n"
   ]
  },
  {
   "cell_type": "code",
   "execution_count": 82,
   "metadata": {},
   "outputs": [],
   "source": [
    "book_gernes = []\n",
    "pictures = []\n",
    "titles = []\n",
    "prices = []\n",
    "ratings = []\n"
   ]
  },
  {
   "cell_type": "code",
   "execution_count": null,
   "metadata": {},
   "outputs": [],
   "source": [
    "# Tim tat ca the loai sach co tren trang\n",
    "# Tim the li chua the loai sach\n",
    "\n",
    "li_tags = driver.find_elements(By.XPATH, \"//ul[@class = 'nav nav-list']/li//li\")\n",
    "# for index, value in enumerate(li_tags):\n",
    "#     print(f\"Index: {index} Value: {value.text}\")\n",
    "\n",
    "\n",
    "\n",
    "for book_gerne in li_tags:\n",
    "    try:\n",
    "        book_gerne = book_gerne.find_element(By.XPATH, \"./a\").text\n",
    "        book_gernes.append(book_gerne)\n",
    "    except Exception as e:\n",
    "        print(f\"Loi {e}\")\n",
    "              \n",
    "print(book_gernes)\n",
    "\n"
   ]
  },
  {
   "cell_type": "code",
   "execution_count": 83,
   "metadata": {},
   "outputs": [
    {
     "name": "stdout",
     "output_type": "stream",
     "text": [
      "['https://books.toscrape.com/catalogue/a-light-in-the-attic_1000/index.html', 'https://books.toscrape.com/catalogue/tipping-the-velvet_999/index.html', 'https://books.toscrape.com/catalogue/soumission_998/index.html', 'https://books.toscrape.com/catalogue/sharp-objects_997/index.html', 'https://books.toscrape.com/catalogue/sapiens-a-brief-history-of-humankind_996/index.html', 'https://books.toscrape.com/catalogue/the-requiem-red_995/index.html', 'https://books.toscrape.com/catalogue/the-dirty-little-secrets-of-getting-your-dream-job_994/index.html', 'https://books.toscrape.com/catalogue/the-coming-woman-a-novel-based-on-the-life-of-the-infamous-feminist-victoria-woodhull_993/index.html', 'https://books.toscrape.com/catalogue/the-boys-in-the-boat-nine-americans-and-their-epic-quest-for-gold-at-the-1936-berlin-olympics_992/index.html', 'https://books.toscrape.com/catalogue/the-black-maria_991/index.html', 'https://books.toscrape.com/catalogue/starving-hearts-triangular-trade-trilogy-1_990/index.html', 'https://books.toscrape.com/catalogue/shakespeares-sonnets_989/index.html', 'https://books.toscrape.com/catalogue/set-me-free_988/index.html', 'https://books.toscrape.com/catalogue/scott-pilgrims-precious-little-life-scott-pilgrim-1_987/index.html', 'https://books.toscrape.com/catalogue/rip-it-up-and-start-again_986/index.html', 'https://books.toscrape.com/catalogue/our-band-could-be-your-life-scenes-from-the-american-indie-underground-1981-1991_985/index.html', 'https://books.toscrape.com/catalogue/olio_984/index.html', 'https://books.toscrape.com/catalogue/mesaerion-the-best-science-fiction-stories-1800-1849_983/index.html', 'https://books.toscrape.com/catalogue/libertarianism-for-beginners_982/index.html', 'https://books.toscrape.com/catalogue/its-only-the-himalayas_981/index.html']\n",
      "20\n"
     ]
    }
   ],
   "source": [
    "# Lay hinh anh san pham\n",
    "\n",
    "ol_tags = driver.find_elements(By.XPATH, \"//ol[@class='row']//li\")\n",
    "\n",
    "try:\n",
    "    for picture in ol_tags:\n",
    "        picture = picture.find_element(By.XPATH, \"./article[@class='product_pod']//a\").get_attribute(\"href\")\n",
    "        pictures.append(picture)\n",
    "except Exception as e:\n",
    "    print(f\"Loi {e}\")\n",
    "\n",
    "print(pictures)\n",
    "print(len(pictures))\n"
   ]
  }
 ],
 "metadata": {
  "kernelspec": {
   "display_name": "Python 3",
   "language": "python",
   "name": "python3"
  },
  "language_info": {
   "codemirror_mode": {
    "name": "ipython",
    "version": 3
   },
   "file_extension": ".py",
   "mimetype": "text/x-python",
   "name": "python",
   "nbconvert_exporter": "python",
   "pygments_lexer": "ipython3",
   "version": "3.10.11"
  }
 },
 "nbformat": 4,
 "nbformat_minor": 2
}
