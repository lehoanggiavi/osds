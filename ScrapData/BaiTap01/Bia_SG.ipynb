{
 "cells": [
  {
   "cell_type": "code",
   "execution_count": 1,
   "metadata": {},
   "outputs": [],
   "source": [
    "from selenium import webdriver\n",
    "from selenium.webdriver.common.by import By\n",
    "import time\n",
    "import sqlite3"
   ]
  },
  {
   "cell_type": "code",
   "execution_count": 123,
   "metadata": {},
   "outputs": [],
   "source": [
    "# # Khoi tao trang web \n",
    "# driver = webdriver.Chrome()\n",
    "\n",
    "# # Mo trang web can lay du lieu\n",
    "# url = \"https://simplize.vn/co-phieu/SAB/lich-su-gia\"\n",
    "# driver.get(url)\n",
    "\n",
    "# time.sleep(7)"
   ]
  },
  {
   "cell_type": "code",
   "execution_count": 124,
   "metadata": {},
   "outputs": [],
   "source": [
    "# Khoi tao trang web \n",
    "driver = webdriver.Chrome()\n",
    "\n",
    "# Mo trang web can lay du lieu\n",
    "url = \"https://simplize.vn/co-phieu/SAB/lich-su-gia\"\n",
    "driver.get(url)\n",
    "\n",
    "time.sleep(7)\n",
    "\n",
    "\n",
    "# Tim tat ca the table \n",
    "table_tags = driver.find_elements(By.TAG_NAME, \"table\")\n",
    "# Tim the table \n",
    "# for index, value in enumerate(table_tags):\n",
    "#     print(f\"Index: {index}, Value: {value.text}\")\n",
    "\n",
    "# Tim tat ca the tr\n",
    "tr_tags = table_tags[1].find_elements(By.TAG_NAME, \"tr\")\n",
    "# print(type(tr_tags))\n",
    "# for index, value in enumerate(tr_tags):\n",
    "#      print(f\"Index: {index}, Value: {value.text}\")\n",
    "\n",
    "\n",
    "ul_tags = driver.find_elements(By.TAG_NAME, \"ul\")\n",
    "# for index, value in enumerate(ul_tags):\n",
    "#     print(f\"Index:{index}, Value:{value.text}\")\n",
    "\n",
    "li_tags = ul_tags[4].find_elements(By.TAG_NAME, \"li\")\n",
    "# for index, value in enumerate(li_tags):\n",
    "#     print(f\"Index:{index} Value:{value.text}\")\n",
    "\n",
    "try:\n",
    "    for page_num in range(1, 6):\n",
    "        page_xpath = f\"//ul[@class='simplize-pagination css-10ewz0g']//li[contains(@class, 'simplize-pagination-item') and contains(@class, 'simplize-pagination-item-{page_num}')]/a\"\n",
    "        page = driver.find_element(By.XPATH, page_xpath)\n",
    "        page.click()\n",
    "        time.sleep(2)\n",
    "except Exception as e:\n",
    "    print(e)\n",
    "\n",
    "driver.quit()\n"
   ]
  },
  {
   "cell_type": "code",
   "execution_count": 125,
   "metadata": {},
   "outputs": [],
   "source": [
    "# page_02 = driver.find_element(By.XPATH, \"//ul[@class='simplize-pagination css-10ewz0g']//li[@class='simplize-pagination-item simplize-pagination-item-2']/a\")\n",
    "# page_02.click()\n",
    "\n",
    "# time.sleep(3)\n",
    "\n",
    "# page_01 = driver.find_element(By.XPATH, \"//ul[@class='simplize-pagination css-10ewz0g']//li[@class='simplize-pagination-item simplize-pagination-item-1']/a\")\n",
    "# page_01.click()"
   ]
  },
  {
   "cell_type": "code",
   "execution_count": 7,
   "metadata": {},
   "outputs": [],
   "source": [
    "conn = sqlite3.connect(\"Stock_Bia_SG.db\")\n",
    "# Tao doi tuong con tro \n",
    "c = conn.cursor()\n",
    "try:\n",
    "    c.execute(\"\"\"\n",
    "        Create Table Transacction(\n",
    "            Id Integer Primary Key AutoIncrement,\n",
    "            Day_Transaction Text,\n",
    "            Open_price Integer,\n",
    "            Highest_Price Integer,\n",
    "            Lowest_Price Integer,\n",
    "            Close_Price Integer,\n",
    "            Change_Price Text,\n",
    "            Change_Percent_Price Text,\n",
    "            Volumn Integer\n",
    "            )\n",
    "    \"\"\")\n",
    "except Exception as e:\n",
    "    print(e)\n",
    "conn.close()"
   ]
  },
  {
   "cell_type": "code",
   "execution_count": null,
   "metadata": {},
   "outputs": [],
   "source": []
  }
 ],
 "metadata": {
  "kernelspec": {
   "display_name": "Python 3",
   "language": "python",
   "name": "python3"
  },
  "language_info": {
   "codemirror_mode": {
    "name": "ipython",
    "version": 3
   },
   "file_extension": ".py",
   "mimetype": "text/x-python",
   "name": "python",
   "nbconvert_exporter": "python",
   "pygments_lexer": "ipython3",
   "version": "3.10.11"
  }
 },
 "nbformat": 4,
 "nbformat_minor": 2
}
