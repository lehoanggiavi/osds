{
 "cells": [
  {
   "cell_type": "code",
   "execution_count": 49,
   "metadata": {},
   "outputs": [],
   "source": [
    "from selenium import webdriver\n",
    "from selenium.webdriver.common.by import By\n",
    "import pandas as pd\n",
    "import time"
   ]
  },
  {
   "cell_type": "code",
   "execution_count": 50,
   "metadata": {},
   "outputs": [],
   "source": [
    "# Khoi tao web\n",
    "driver = webdriver.Chrome()\n",
    "\n",
    "# Mo trang web\n",
    "url=\"https://en.wikipedia.org/wiki/Lists_of_musicians\"\n",
    "driver.get(url)\n",
    "time.sleep(3)\n",
    "\n",
    "\n",
    "# driver.quit()"
   ]
  },
  {
   "cell_type": "code",
   "execution_count": null,
   "metadata": {},
   "outputs": [],
   "source": [
    "# Trích xuất các liên kết đến trang web chứa thông tin về các nhạc sĩ chuyên về thể loại âm nhạc bắt đầu bằng chữ \"A\".\n",
    "ul_tags = driver.find_elements(By.TAG_NAME, \"ul\")\n",
    "\n",
    "# Tim the ul chua toan bo danh sach nhac si (chu A) can truy cap\n",
    "# for index, value in enumerate(ul_tags):\n",
    "#     print(f\"Index: {index} Value: {value.text}\")\n",
    "\n",
    "# Tim the li trong ul\n",
    "li_tags = ul_tags[21].find_elements(By.TAG_NAME, \"li\")\n",
    "\n",
    "\n",
    "# Tao 1 danh sach lien ket de chua cac duong link \n",
    "\n",
    "# C1\n",
    "# links = [tag.find_element(By.TAG_NAME, \"a\").get_attribute(\"href\") for tag in li_tags]\n",
    "\n",
    "# C2\n",
    "a_tags = ul_tags[21].find_elements(By.TAG_NAME, \"a\")\n",
    "links = []\n",
    "for tag in a_tags:\n",
    "    href = tag.get_attribute(\"href\")\n",
    "    # print(tag)\n",
    "    links.append(href)\n",
    "\n",
    "\n",
    "for link in links:\n",
    "    url2 = driver.get(link)\n",
    "    time.sleep(1)\n",
    "    print(link)\n",
    "\n",
    "\n",
    "# Dong trang web\n",
    "# driver.quit()"
   ]
  },
  {
   "cell_type": "code",
   "execution_count": 52,
   "metadata": {},
   "outputs": [],
   "source": [
    "driver.get(url=links[0])\n",
    "time.sleep(6)\n",
    "\n",
    "# Tim tat ca the ul \n",
    "ul_tags_acid_rock = driver.find_elements(By.TAG_NAME, \"ul\")\n",
    "\n",
    "# Tim the ul can tim\n",
    "# for index, value in enumerate(ul_tags_acid_rock):\n",
    "#     print(f\"Index: {index} Value: {value.text}\")\n",
    "\n",
    "# Tim the li co chua cac duong dan den tung ten nhom nhac\n",
    "li_tags_artists = ul_tags_acid_rock[24].find_elements(By.TAG_NAME, \"li\")\n",
    "\n",
    "# Tao 1 danh sach lien ket chua cac duong link\n",
    "\n",
    "# C1\n",
    "links_artists = [tag.find_element(By.TAG_NAME, \"a\").get_attribute(\"href\") for tag in li_tags_artists]\n",
    "\n",
    "for link in links_artists:\n",
    "    driver.get(url=link)\n",
    "    time.sleep(1)\n",
    "    # print(link)\n",
    "driver.quit()"
   ]
  },
  {
   "cell_type": "code",
   "execution_count": null,
   "metadata": {},
   "outputs": [],
   "source": [
    "# Khoi tao web\n",
    "driver = webdriver.Chrome()\n",
    "\n",
    "# Mo trang web\n",
    "url = \"https://en.wikipedia.org/wiki/The_13th_Floor_Elevators\"\n",
    "driver.get(url)\n",
    "time.sleep(3)\n",
    "\n",
    "d = pd.DataFrame({\"Name\": []})\n",
    "\n",
    "# Lay ten\n",
    "try:\n",
    "    name_elements = driver.find_element(By.XPATH, \"//h1[@id='firstHeading']//span[@class='mw-page-title-main']\")\n",
    "    name = name_elements.text\n",
    "    print(name)\n",
    "except:\n",
    "    \"\"\n",
    "\n",
    "# Lay nam hoat dong\n",
    "try:\n",
    "     year_active_elements = driver.find_element(By.XPATH, \"//th[span[contains(text(), 'Years active')]]/following-sibling::td\")\n",
    "     year_active = year_active_elements.text\n",
    "     print(year_active)\n",
    "except:\n",
    "    \"\"    \n",
    "\n",
    "driver.quit()\n"
   ]
  }
 ],
 "metadata": {
  "kernelspec": {
   "display_name": "Python 3",
   "language": "python",
   "name": "python3"
  },
  "language_info": {
   "codemirror_mode": {
    "name": "ipython",
    "version": 3
   },
   "file_extension": ".py",
   "mimetype": "text/x-python",
   "name": "python",
   "nbconvert_exporter": "python",
   "pygments_lexer": "ipython3",
   "version": "3.10.11"
  }
 },
 "nbformat": 4,
 "nbformat_minor": 2
}
