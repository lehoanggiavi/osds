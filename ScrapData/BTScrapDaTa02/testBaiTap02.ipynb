{
 "cells": [
  {
   "cell_type": "code",
   "execution_count": 17,
   "metadata": {},
   "outputs": [],
   "source": [
    "from selenium import webdriver\n",
    "from selenium.webdriver.chrome.service import Service\n",
    "from selenium.webdriver.common.by import By\n",
    "from selenium.webdriver.common.keys import Keys\n",
    "from selenium.webdriver.support import expected_conditions as EC\n",
    "from selenium.common.exceptions import NoSuchFrameException, TimeoutException\n",
    "from selenium.webdriver.support.ui import WebDriverWait\n",
    "import time\n",
    "import pandas as pd"
   ]
  },
  {
   "cell_type": "code",
   "execution_count": 22,
   "metadata": {},
   "outputs": [],
   "source": [
    "# # Dung trinh duyet Chrome\n",
    "# driver = webdriver.Chrome()\n",
    "\n",
    "\n",
    "gecko_path = \"E:/OSDS/osds/geckodriver.exe\"\n",
    "# Khởi tởi đối tượng dịch vụ với đường geckodriver\n",
    "ser = Service(gecko_path)\n",
    "\n",
    "# Tạo tùy chọn\n",
    "options = webdriver.firefox.options.Options()\n",
    "options.binary_location = \"C:/Program Files/Mozilla Firefox/firefox.exe\"\n",
    "# Thiết lập firefox chỉ hiện thị giao diện\n",
    "options.headless = False\n",
    "\n",
    "# Khởi tạo driver\n",
    "driver = webdriver.Firefox(options = options, service=ser)\n",
    "\n",
    "\n",
    "# Tạo url\n",
    "url = 'https://nhathuoclongchau.com.vn/thuc-pham-chuc-nang/vitamin-khoang-chat'\n",
    "\n",
    "# Truy cập\n",
    "driver.get(url)\n",
    "\n",
    "# Tạm dừng khoảng 2 giây\n",
    "time.sleep(8)\n",
    "\n",
    "# Tìm phần tử body của trang để gửi phím mũi tên xuống\n",
    "body = driver.find_element(By.TAG_NAME, \"body\")\n",
    "\n",
    "\n",
    "for _ in range(5):\n",
    "    try:\n",
    "        button_xemthem = driver.find_element(By.XPATH, \"//div[@class='px-4 pt-3 md:px-0 md:pt-0']//span[contains(text(), 'Xem thêm')]\")\n",
    "        button_xemthem.click()\n",
    "        time.sleep(3)\n",
    "    except Exception as e:\n",
    "        print(f\"Loi {e}\")\n",
    "\n",
    "\n",
    "# Lazy loading\n",
    "for i in range (50):\n",
    "    body.send_keys(Keys.ARROW_DOWN)\n",
    "    time.sleep(0.02)\n",
    "\n"
   ]
  }
 ],
 "metadata": {
  "kernelspec": {
   "display_name": "Python 3",
   "language": "python",
   "name": "python3"
  },
  "language_info": {
   "codemirror_mode": {
    "name": "ipython",
    "version": 3
   },
   "file_extension": ".py",
   "mimetype": "text/x-python",
   "name": "python",
   "nbconvert_exporter": "python",
   "pygments_lexer": "ipython3",
   "version": "3.10.11"
  }
 },
 "nbformat": 4,
 "nbformat_minor": 2
}
